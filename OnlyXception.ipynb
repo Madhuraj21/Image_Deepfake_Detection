{
  "nbformat": 4,
  "nbformat_minor": 0,
  "metadata": {
    "colab": {
      "provenance": [],
      "gpuType": "T4"
    },
    "kernelspec": {
      "name": "python3",
      "display_name": "Python 3"
    },
    "language_info": {
      "name": "python"
    },
    "accelerator": "GPU"
  },
  "cells": [
    {
      "cell_type": "code",
      "execution_count": null,
      "metadata": {
        "id": "bUGTP9RSLIqO"
      },
      "outputs": [],
      "source": [
        "import os\n",
        "import tensorflow as tf\n",
        "import numpy as np\n",
        "from tensorflow.keras.models import Sequential\n",
        "from tensorflow.keras.layers import Input, Dense, GlobalAveragePooling2D\n",
        "from tensorflow.keras.applications import Xception\n",
        "from tensorflow.keras.optimizers import Adam\n",
        "from tensorflow.keras.preprocessing.image import ImageDataGenerator\n",
        "\n",
        "tf.random.set_seed(42)\n",
        "np.random.seed(42)\n",
        "\n",
        "def get_xception_based_model():\n",
        "    base_model = Xception(weights='imagenet', include_top=False, input_shape=(128, 128, 3))\n",
        "\n",
        "    inputs = tf.keras.Input(shape=(128, 128, 3))\n",
        "    x = base_model(inputs, training=False)\n",
        "    x = tf.keras.layers.GlobalAveragePooling2D()(x)\n",
        "    x = tf.keras.layers.Dense(units=1024, activation='relu')(x)\n",
        "    outputs = tf.keras.layers.Dense(units=1, activation='sigmoid')(x)\n",
        "    model = tf.keras.Model(inputs=inputs, outputs=outputs)\n",
        "\n",
        "    opt = Adam(learning_rate=0.0001)\n",
        "    model.compile(loss='binary_crossentropy', optimizer=opt, metrics=['accuracy'])\n",
        "\n",
        "    return model\n",
        "\n",
        "def load_and_preprocess_image(image_path):\n",
        "    img = tf.io.read_file(image_path)\n",
        "    img = tf.image.decode_jpeg(img, channels=3)\n",
        "    img = tf.image.resize(img, [128, 128])\n",
        "    img = tf.cast(img, tf.float32) / 255.0\n",
        "    return img\n",
        "\n",
        "def predict_with_threshold(model, image_path, threshold=0.5):\n",
        "    img = load_and_preprocess_image(image_path)\n",
        "    img = np.expand_dims(img, axis=0)\n",
        "\n",
        "    prediction = model.predict(img)[0][0]\n",
        "\n",
        "    print(f\"Raw Prediction Score: {prediction:.4f}.\")\n",
        "\n",
        "    if prediction >= threshold:\n",
        "        pred_class = 'real'\n",
        "    else:\n",
        "        pred_class = 'fake'\n",
        "\n",
        "    print(f\"Predicted Class ({pred_class}), Probability - {prediction:.4f}.\")"
      ]
    },
    {
      "cell_type": "code",
      "source": [
        "\n",
        "if __name__==\"__main__\":\n",
        "    xception_model = get_xception_based_model()\n",
        "\n",
        "    # Optionally uncomment the next line to visualize the architecture summary\n",
        "    # xception_model.summary()\n",
        "\n",
        "    train_datagen = ImageDataGenerator(\n",
        "      rescale=1./255,\n",
        "      shear_range=0.2,\n",
        "      zoom_range=0.2,\n",
        "      horizontal_flip=True,\n",
        "      vertical_flip=True,\n",
        "      rotation_range=10.,\n",
        "      width_shift_range=0.1,\n",
        "      height_shift_range=0.1)\n",
        "\n",
        "    validation_datagen = ImageDataGenerator(rescale=1./255)\n",
        "\n",
        "    train_generator = train_datagen.flow_from_directory(\n",
        "      directory='/content/drive/MyDrive/dataset/training',\n",
        "      target_size=(128, 128),\n",
        "      batch_size=256,\n",
        "      class_mode='binary')\n",
        "\n",
        "    validate_generator = validation_datagen.flow_from_directory(\n",
        "      directory='/content/drive/MyDrive/dataset/test',\n",
        "      target_size=(128, 128),\n",
        "      batch_size=256,\n",
        "      class_mode='binary')\n",
        "\n",
        "    epochs = 20\n",
        "\n",
        "    history = xception_model.fit(train_generator, epochs=epochs, validation_data=validate_generator)\n",
        "\n",
        "    xception_model.save('best_xception_model.h5')\n",
        "\n",
        "    # # Testing\n",
        "    # image_path = '<YOUR_IMAGE_PATH>'\n",
        "    # predict_with_threshold(xception_model, image_path)"
      ],
      "metadata": {
        "colab": {
          "base_uri": "https://localhost:8080/"
        },
        "id": "ILsXcmMPLK3h",
        "outputId": "3858bb0a-ffa3-4fbe-b02e-742f90f25447"
      },
      "execution_count": null,
      "outputs": [
        {
          "output_type": "stream",
          "name": "stdout",
          "text": [
            "Downloading data from https://storage.googleapis.com/tensorflow/keras-applications/xception/xception_weights_tf_dim_ordering_tf_kernels_notop.h5\n",
            "83683744/83683744 [==============================] - 0s 0us/step\n",
            "Found 1437 images belonging to 2 classes.\n",
            "Found 604 images belonging to 2 classes.\n",
            "Epoch 1/20\n",
            "6/6 [==============================] - 335s 51s/step - loss: 0.7262 - accuracy: 0.4864 - val_loss: 0.6947 - val_accuracy: 0.4719\n",
            "Epoch 2/20\n",
            "6/6 [==============================] - 30s 5s/step - loss: 0.6882 - accuracy: 0.5449 - val_loss: 0.6897 - val_accuracy: 0.4967\n",
            "Epoch 3/20\n",
            "6/6 [==============================] - 34s 6s/step - loss: 0.6812 - accuracy: 0.5428 - val_loss: 0.6839 - val_accuracy: 0.5199\n",
            "Epoch 4/20\n",
            "6/6 [==============================] - 30s 5s/step - loss: 0.6701 - accuracy: 0.5651 - val_loss: 0.6667 - val_accuracy: 0.6407\n",
            "Epoch 5/20\n",
            "6/6 [==============================] - 30s 5s/step - loss: 0.6520 - accuracy: 0.6124 - val_loss: 0.6329 - val_accuracy: 0.6838\n",
            "Epoch 6/20\n",
            "6/6 [==============================] - 34s 6s/step - loss: 0.6349 - accuracy: 0.6500 - val_loss: 0.6057 - val_accuracy: 0.6854\n",
            "Epoch 7/20\n",
            "6/6 [==============================] - 29s 5s/step - loss: 0.6348 - accuracy: 0.6374 - val_loss: 0.6150 - val_accuracy: 0.6821\n",
            "Epoch 8/20\n",
            "6/6 [==============================] - 30s 5s/step - loss: 0.6223 - accuracy: 0.6555 - val_loss: 0.6314 - val_accuracy: 0.6490\n",
            "Epoch 9/20\n",
            "6/6 [==============================] - 30s 5s/step - loss: 0.6031 - accuracy: 0.6646 - val_loss: 0.6108 - val_accuracy: 0.6656\n",
            "Epoch 10/20\n",
            "6/6 [==============================] - 31s 5s/step - loss: 0.5900 - accuracy: 0.6882 - val_loss: 0.5846 - val_accuracy: 0.6921\n",
            "Epoch 11/20\n",
            "6/6 [==============================] - 30s 5s/step - loss: 0.5700 - accuracy: 0.7015 - val_loss: 0.5710 - val_accuracy: 0.7053\n",
            "Epoch 12/20\n",
            "6/6 [==============================] - 30s 5s/step - loss: 0.5494 - accuracy: 0.7126 - val_loss: 0.5998 - val_accuracy: 0.6821\n",
            "Epoch 13/20\n",
            "6/6 [==============================] - 30s 5s/step - loss: 0.5545 - accuracy: 0.7049 - val_loss: 0.5854 - val_accuracy: 0.6970\n",
            "Epoch 14/20\n",
            "6/6 [==============================] - 30s 5s/step - loss: 0.5097 - accuracy: 0.7460 - val_loss: 0.6030 - val_accuracy: 0.6722\n",
            "Epoch 15/20\n",
            "6/6 [==============================] - 30s 5s/step - loss: 0.5125 - accuracy: 0.7432 - val_loss: 0.6039 - val_accuracy: 0.6656\n",
            "Epoch 16/20\n",
            "6/6 [==============================] - 30s 5s/step - loss: 0.4915 - accuracy: 0.7585 - val_loss: 0.5873 - val_accuracy: 0.7169\n",
            "Epoch 17/20\n",
            "6/6 [==============================] - 29s 5s/step - loss: 0.4367 - accuracy: 0.8045 - val_loss: 0.6547 - val_accuracy: 0.6639\n",
            "Epoch 18/20\n",
            "6/6 [==============================] - 30s 5s/step - loss: 0.4285 - accuracy: 0.8045 - val_loss: 0.6202 - val_accuracy: 0.6871\n",
            "Epoch 19/20\n",
            "6/6 [==============================] - 30s 5s/step - loss: 0.4021 - accuracy: 0.8232 - val_loss: 0.6763 - val_accuracy: 0.6772\n",
            "Epoch 20/20\n",
            "6/6 [==============================] - 31s 5s/step - loss: 0.3857 - accuracy: 0.8205 - val_loss: 0.6582 - val_accuracy: 0.6639\n"
          ]
        },
        {
          "output_type": "stream",
          "name": "stderr",
          "text": [
            "/usr/local/lib/python3.10/dist-packages/keras/src/engine/training.py:3103: UserWarning: You are saving your model as an HDF5 file via `model.save()`. This file format is considered legacy. We recommend using instead the native Keras format, e.g. `model.save('my_model.keras')`.\n",
            "  saving_api.save_model(\n"
          ]
        }
      ]
    },
    {
      "cell_type": "code",
      "source": [
        " # Testing\n",
        "image_path = '/content/drive/MyDrive/dataset/face_pred/check.jpg'\n",
        "predict_with_threshold(xception_model, image_path)\n",
        "\n",
        "image_path = '/content/drive/MyDrive/dataset/face_pred/check2.jpg'\n",
        "predict_with_threshold(xception_model, image_path)\n",
        "\n",
        "image_path = '/content/drive/MyDrive/dataset/face_pred/check3.jpg'\n",
        "predict_with_threshold(xception_model, image_path)\n",
        "\n",
        "image_path = '/content/drive/MyDrive/dataset/face_pred/check4.jpg'\n",
        "predict_with_threshold(xception_model, image_path)"
      ],
      "metadata": {
        "colab": {
          "base_uri": "https://localhost:8080/"
        },
        "id": "T0ZF8bv3LVfn",
        "outputId": "b368a9fc-475d-4047-b862-4ab584ad60fb"
      },
      "execution_count": null,
      "outputs": [
        {
          "output_type": "stream",
          "name": "stdout",
          "text": [
            "1/1 [==============================] - 2s 2s/step\n",
            "Raw Prediction Score: 0.8392.\n",
            "Predicted Class (real), Probability - 0.8392.\n",
            "1/1 [==============================] - 0s 21ms/step\n",
            "Raw Prediction Score: 0.9071.\n",
            "Predicted Class (real), Probability - 0.9071.\n",
            "1/1 [==============================] - 0s 21ms/step\n",
            "Raw Prediction Score: 0.2671.\n",
            "Predicted Class (fake), Probability - 0.2671.\n",
            "1/1 [==============================] - 0s 21ms/step\n",
            "Raw Prediction Score: 0.0937.\n",
            "Predicted Class (fake), Probability - 0.0937.\n"
          ]
        }
      ]
    }
  ]
}